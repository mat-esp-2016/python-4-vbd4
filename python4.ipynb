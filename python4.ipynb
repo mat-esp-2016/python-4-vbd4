{
 "cells": [
  {
   "cell_type": "code",
   "execution_count": 1,
   "metadata": {
    "collapsed": true
   },
   "outputs": [],
   "source": [
    "import numpy as np"
   ]
  },
  {
   "cell_type": "code",
   "execution_count": 2,
   "metadata": {
    "collapsed": false
   },
   "outputs": [],
   "source": [
    "def LatLog_NomeCidade(path_arquivo):\n",
    "    #Trata a linha da longitude e da latitude\n",
    "    arquivo = open(path_arquivo)\n",
    "    linha = arquivo.readlines()[4:5]\n",
    "    texto = ''.join(linha)\n",
    "    lat_long = texto.split()[1:5]\n",
    "    lat_long = ''.join(lat_long)\n",
    "    \n",
    "    #Trata a linha do nome da cidade mais próxima\n",
    "    arquivo = open(path_arquivo)\n",
    "    linha = arquivo.readlines()[35:36]\n",
    "    texto = ''.join(linha)\n",
    "    cidade = texto.split()[3][:-1]\n",
    "    \n",
    "    #Retorna a Longitude e Latitude mais o nome da cidade mais próxima\n",
    "    return(lat_long,cidade)"
   ]
  },
  {
   "cell_type": "code",
   "execution_count": 3,
   "metadata": {
    "collapsed": false
   },
   "outputs": [
    {
     "data": {
      "text/plain": [
       "('0.80S,49.02W', 'Belém')"
      ]
     },
     "execution_count": 3,
     "metadata": {},
     "output_type": "execute_result"
    }
   ],
   "source": [
    "LatLog_NomeCidade(\"./dados/0.80S-49.02W-TAVG-Trend.txt\")"
   ]
  },
  {
   "cell_type": "code",
   "execution_count": 4,
   "metadata": {
    "collapsed": false
   },
   "outputs": [],
   "source": [
    "def temp_anual_est(path_arquivo):\n",
    "    #Trata da linha da temperatura absoluta estimada\n",
    "    arquivo = open(path_arquivo)\n",
    "    linha = arquivo.readlines()[47:48]\n",
    "    texto = ''.join(linha)\n",
    "    temp_absol_estim = texto.split()[8]\n",
    "    temp_absol_estim = float(temp_absol_estim)\n",
    "    \n",
    "    #Trata de toda a coluna com as anomalias de temperatura anual\n",
    "    dados = np.loadtxt(path_arquivo, comments=\"%\")\n",
    "    anomalia_temperatura_anual = np.nan_to_num(dados[:,4])\n",
    "\n",
    "    return anomalia_temperatura_anual + temp_absol_estim"
   ]
  },
  {
   "cell_type": "code",
   "execution_count": 5,
   "metadata": {
    "collapsed": false
   },
   "outputs": [
    {
     "data": {
      "text/plain": [
       "array([ 26.74 ,  26.74 ,  25.868, ...,  26.74 ,  26.74 ,  26.74 ])"
      ]
     },
     "execution_count": 5,
     "metadata": {},
     "output_type": "execute_result"
    }
   ],
   "source": [
    "temp_anual_est(\"./dados/0.80S-49.02W-TAVG-Trend.txt\")"
   ]
  },
  {
   "cell_type": "code",
   "execution_count": null,
   "metadata": {
    "collapsed": true
   },
   "outputs": [],
   "source": []
  }
 ],
 "metadata": {
  "anaconda-cloud": {},
  "kernelspec": {
   "display_name": "Python [Root]",
   "language": "python",
   "name": "Python [Root]"
  },
  "language_info": {
   "codemirror_mode": {
    "name": "ipython",
    "version": 3
   },
   "file_extension": ".py",
   "mimetype": "text/x-python",
   "name": "python",
   "nbconvert_exporter": "python",
   "pygments_lexer": "ipython3",
   "version": "3.5.2"
  }
 },
 "nbformat": 4,
 "nbformat_minor": 0
}
